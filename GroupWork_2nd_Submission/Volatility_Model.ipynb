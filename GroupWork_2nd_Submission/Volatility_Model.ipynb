{
 "metadata": {
  "language_info": {
   "codemirror_mode": {
    "name": "ipython",
    "version": 3
   },
   "file_extension": ".py",
   "mimetype": "text/x-python",
   "name": "python",
   "nbconvert_exporter": "python",
   "pygments_lexer": "ipython3",
   "version": "3.6.12-final"
  },
  "orig_nbformat": 2,
  "kernelspec": {
   "name": "python37964bit31a311d1fead4a42b7638b23616ed1ae",
   "display_name": "Python 3.7.9 64-bit"
  }
 },
 "nbformat": 4,
 "nbformat_minor": 2,
 "cells": [
  {
   "cell_type": "code",
   "execution_count": 5,
   "metadata": {},
   "outputs": [],
   "source": [
    "import warnings\n",
    "warnings.simplefilter('ignore')\n",
    "\n",
    "%matplotlib inline\n",
    "import matplotlib.pyplot as plt\n",
    "import seaborn\n",
    "\n",
    "seaborn.set_style('darkgrid')\n",
    "plt.rc(\"figure\", figsize=(16, 6))\n",
    "plt.rc(\"savefig\", dpi=90)\n",
    "plt.rc(\"font\",family=\"sans-serif\")\n",
    "plt.rc(\"font\",size=14)"
   ]
  },
  {
   "cell_type": "code",
   "execution_count": 4,
   "metadata": {},
   "outputs": [],
   "source": [
    "data = pd.read_csv(\"APPL.csv\")\n",
    "data.index = data['Date']\n",
    "# log and rescaled returns \n",
    "lrets = np.log(data['Adj Close']/data['Adj Close'].shift(1)).dropna() * 100"
   ]
  },
  {
   "cell_type": "code",
   "execution_count": 12,
   "metadata": {
    "tags": []
   },
   "outputs": [
    {
     "output_type": "stream",
     "name": "stdout",
     "text": [
      "                     AR - Constant Variance Model Results                     \n==============================================================================\nDep. Variable:              Adj Close   R-squared:                       0.009\nMean Model:                        AR   Adj. R-squared:                  0.008\nVol Model:          Constant Variance   Log-Likelihood:               -4961.78\nDistribution:                  Normal   AIC:                           9933.55\nMethod:            Maximum Likelihood   BIC:                           9962.66\n                                        No. Observations:                 2496\nDate:                Sat, Oct 10 2020   Df Residuals:                     2491\nTime:                        14:58:10   Df Model:                            5\n                                   Mean Model                                   \n================================================================================\n                    coef    std err          t      P>|t|       95.0% Conf. Int.\n--------------------------------------------------------------------------------\nConst             0.1138  3.598e-02      3.163  1.560e-03    [4.330e-02,  0.184]\nAdj Close[1]     -0.0516  3.414e-02     -1.512      0.131    [ -0.119,1.531e-02]\nAdj Close[5]  8.8733e-03  3.129e-02      0.284      0.777 [-5.246e-02,7.020e-02]\nAdj Close[22]    -0.0786  2.249e-02     -3.495  4.749e-04   [ -0.123,-3.452e-02]\n                            Volatility Model                            \n========================================================================\n                 coef    std err          t      P>|t|  95.0% Conf. Int.\n------------------------------------------------------------------------\nsigma2         3.1202      0.185     16.895  4.933e-64 [  2.758,  3.482]\n========================================================================\n\nCovariance estimator: White's Heteroskedasticity Consistent Estimator\n"
     ]
    }
   ],
   "source": [
    "from arch.univariate import ARX\n",
    "lags = [1,5,22]\n",
    "ar = ARX(lrets, lags=lags)\n",
    "print(ar.fit().summary())"
   ]
  },
  {
   "cell_type": "code",
   "execution_count": null,
   "metadata": {},
   "outputs": [],
   "source": []
  }
 ]
}